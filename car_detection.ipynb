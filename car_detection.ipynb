{
 "metadata": {
  "language_info": {
   "codemirror_mode": {
    "name": "ipython",
    "version": 3
   },
   "file_extension": ".py",
   "mimetype": "text/x-python",
   "name": "python",
   "nbconvert_exporter": "python",
   "pygments_lexer": "ipython3",
   "version": "3.8.5-final"
  },
  "orig_nbformat": 2,
  "kernelspec": {
   "name": "python3",
   "display_name": "Python 3",
   "language": "python"
  }
 },
 "nbformat": 4,
 "nbformat_minor": 2,
 "cells": [
  {
   "source": [
    "## Importing libraries"
   ],
   "cell_type": "markdown",
   "metadata": {}
  },
  {
   "cell_type": "code",
   "execution_count": 1,
   "metadata": {},
   "outputs": [],
   "source": [
    "import cv2\n",
    "import numpy as np\n",
    "import os\n",
    "import time\n",
    "import matplotlib.pyplot as plt"
   ]
  },
  {
   "source": [
    "## Defining paths and loading the files of the trained model"
   ],
   "cell_type": "markdown",
   "metadata": {}
  },
  {
   "cell_type": "code",
   "execution_count": 2,
   "metadata": {},
   "outputs": [
    {
     "output_type": "execute_result",
     "data": {
      "text/plain": [
       "'c:\\\\Users\\\\edson\\\\Desktop\\\\car_detection_yolov4'"
      ]
     },
     "metadata": {},
     "execution_count": 2
    }
   ],
   "source": [
    "pwd"
   ]
  },
  {
   "cell_type": "code",
   "execution_count": 3,
   "metadata": {},
   "outputs": [],
   "source": [
    "labels_path = os.path.sep.join(['darknet/cfg/coco.names'])\n",
    "LABELS = open(labels_path).read().strip().split(\"\\n\")"
   ]
  },
  {
   "cell_type": "code",
   "execution_count": 4,
   "metadata": {},
   "outputs": [],
   "source": [
    "weights_path = os.path.sep.join(['darknet/yolov4.weights'])\n",
    "config_path = os.path.sep.join(['darknet/cfg/yolov4.cfg'])"
   ]
  },
  {
   "source": [
    "## Defining configurations for the detection"
   ],
   "cell_type": "markdown",
   "metadata": {}
  },
  {
   "cell_type": "code",
   "execution_count": 5,
   "metadata": {},
   "outputs": [],
   "source": [
    "net = cv2.dnn.readNet(config_path, weights_path)"
   ]
  },
  {
   "cell_type": "code",
   "execution_count": 6,
   "metadata": {},
   "outputs": [],
   "source": [
    "np.random.seed(42)\n",
    "COLORS = np.random.randint(0, 255, size=(len(LABELS), 3), dtype=\"uint8\")"
   ]
  },
  {
   "cell_type": "code",
   "execution_count": 7,
   "metadata": {},
   "outputs": [
    {
     "output_type": "stream",
     "name": "stdout",
     "text": [
      "All layers:\n['conv_0', 'bn_0', 'mish_1', 'conv_1', 'bn_1', 'mish_2', 'conv_2', 'bn_2', 'mish_3', 'identity_3', 'conv_4', 'bn_4', 'mish_5', 'conv_5', 'bn_5', 'mish_6', 'conv_6', 'bn_6', 'mish_7', 'shortcut_7', 'conv_8', 'bn_8', 'mish_9', 'concat_9', 'conv_10', 'bn_10', 'mish_11', 'conv_11', 'bn_11', 'mish_12', 'conv_12', 'bn_12', 'mish_13', 'identity_13', 'conv_14', 'bn_14', 'mish_15', 'conv_15', 'bn_15', 'mish_16', 'conv_16', 'bn_16', 'mish_17', 'shortcut_17', 'conv_18', 'bn_18', 'mish_19', 'conv_19', 'bn_19', 'mish_20', 'shortcut_20', 'conv_21', 'bn_21', 'mish_22', 'concat_22', 'conv_23', 'bn_23', 'mish_24', 'conv_24', 'bn_24', 'mish_25', 'conv_25', 'bn_25', 'mish_26', 'identity_26', 'conv_27', 'bn_27', 'mish_28', 'conv_28', 'bn_28', 'mish_29', 'conv_29', 'bn_29', 'mish_30', 'shortcut_30', 'conv_31', 'bn_31', 'mish_32', 'conv_32', 'bn_32', 'mish_33', 'shortcut_33', 'conv_34', 'bn_34', 'mish_35', 'conv_35', 'bn_35', 'mish_36', 'shortcut_36', 'conv_37', 'bn_37', 'mish_38', 'conv_38', 'bn_38', 'mish_39', 'shortcut_39', 'conv_40', 'bn_40', 'mish_41', 'conv_41', 'bn_41', 'mish_42', 'shortcut_42', 'conv_43', 'bn_43', 'mish_44', 'conv_44', 'bn_44', 'mish_45', 'shortcut_45', 'conv_46', 'bn_46', 'mish_47', 'conv_47', 'bn_47', 'mish_48', 'shortcut_48', 'conv_49', 'bn_49', 'mish_50', 'conv_50', 'bn_50', 'mish_51', 'shortcut_51', 'conv_52', 'bn_52', 'mish_53', 'concat_53', 'conv_54', 'bn_54', 'mish_55', 'conv_55', 'bn_55', 'mish_56', 'conv_56', 'bn_56', 'mish_57', 'identity_57', 'conv_58', 'bn_58', 'mish_59', 'conv_59', 'bn_59', 'mish_60', 'conv_60', 'bn_60', 'mish_61', 'shortcut_61', 'conv_62', 'bn_62', 'mish_63', 'conv_63', 'bn_63', 'mish_64', 'shortcut_64', 'conv_65', 'bn_65', 'mish_66', 'conv_66', 'bn_66', 'mish_67', 'shortcut_67', 'conv_68', 'bn_68', 'mish_69', 'conv_69', 'bn_69', 'mish_70', 'shortcut_70', 'conv_71', 'bn_71', 'mish_72', 'conv_72', 'bn_72', 'mish_73', 'shortcut_73', 'conv_74', 'bn_74', 'mish_75', 'conv_75', 'bn_75', 'mish_76', 'shortcut_76', 'conv_77', 'bn_77', 'mish_78', 'conv_78', 'bn_78', 'mish_79', 'shortcut_79', 'conv_80', 'bn_80', 'mish_81', 'conv_81', 'bn_81', 'mish_82', 'shortcut_82', 'conv_83', 'bn_83', 'mish_84', 'concat_84', 'conv_85', 'bn_85', 'mish_86', 'conv_86', 'bn_86', 'mish_87', 'conv_87', 'bn_87', 'mish_88', 'identity_88', 'conv_89', 'bn_89', 'mish_90', 'conv_90', 'bn_90', 'mish_91', 'conv_91', 'bn_91', 'mish_92', 'shortcut_92', 'conv_93', 'bn_93', 'mish_94', 'conv_94', 'bn_94', 'mish_95', 'shortcut_95', 'conv_96', 'bn_96', 'mish_97', 'conv_97', 'bn_97', 'mish_98', 'shortcut_98', 'conv_99', 'bn_99', 'mish_100', 'conv_100', 'bn_100', 'mish_101', 'shortcut_101', 'conv_102', 'bn_102', 'mish_103', 'concat_103', 'conv_104', 'bn_104', 'mish_105', 'conv_105', 'bn_105', 'leaky_106', 'conv_106', 'bn_106', 'leaky_107', 'conv_107', 'bn_107', 'leaky_108', 'pool_108', 'identity_109', 'pool_110', 'identity_111', 'pool_112', 'concat_113', 'conv_114', 'bn_114', 'leaky_115', 'conv_115', 'bn_115', 'leaky_116', 'conv_116', 'bn_116', 'leaky_117', 'conv_117', 'bn_117', 'leaky_118', 'upsample_118', 'identity_119', 'conv_120', 'bn_120', 'leaky_121', 'concat_121', 'conv_122', 'bn_122', 'leaky_123', 'conv_123', 'bn_123', 'leaky_124', 'conv_124', 'bn_124', 'leaky_125', 'conv_125', 'bn_125', 'leaky_126', 'conv_126', 'bn_126', 'leaky_127', 'conv_127', 'bn_127', 'leaky_128', 'upsample_128', 'identity_129', 'conv_130', 'bn_130', 'leaky_131', 'concat_131', 'conv_132', 'bn_132', 'leaky_133', 'conv_133', 'bn_133', 'leaky_134', 'conv_134', 'bn_134', 'leaky_135', 'conv_135', 'bn_135', 'leaky_136', 'conv_136', 'bn_136', 'leaky_137', 'conv_137', 'bn_137', 'leaky_138', 'conv_138', 'permute_139', 'yolo_139', 'identity_140', 'conv_141', 'bn_141', 'leaky_142', 'concat_142', 'conv_143', 'bn_143', 'leaky_144', 'conv_144', 'bn_144', 'leaky_145', 'conv_145', 'bn_145', 'leaky_146', 'conv_146', 'bn_146', 'leaky_147', 'conv_147', 'bn_147', 'leaky_148', 'conv_148', 'bn_148', 'leaky_149', 'conv_149', 'permute_150', 'yolo_150', 'identity_151', 'conv_152', 'bn_152', 'leaky_153', 'concat_153', 'conv_154', 'bn_154', 'leaky_155', 'conv_155', 'bn_155', 'leaky_156', 'conv_156', 'bn_156', 'leaky_157', 'conv_157', 'bn_157', 'leaky_158', 'conv_158', 'bn_158', 'leaky_159', 'conv_159', 'bn_159', 'leaky_160', 'conv_160', 'permute_161', 'yolo_161']\nTotal: 379\nOutput layers: \n[[327]\n [353]\n [379]]\n['yolo_139', 'yolo_150', 'yolo_161']\n"
     ]
    }
   ],
   "source": [
    "ln = net.getLayerNames()\n",
    "print(\"All layers:\")\n",
    "print(ln)\n",
    "print(\"Total: \"+ str(len(ln)))\n",
    "print(\"Output layers: \")\n",
    "print(net.getUnconnectedOutLayers())\n",
    "ln = [ln[i[0] - 1] for i in net.getUnconnectedOutLayers()]\n",
    "print(ln)"
   ]
  },
  {
   "cell_type": "code",
   "execution_count": 8,
   "metadata": {},
   "outputs": [],
   "source": [
    "def blob_image(net, image, show_text=True):\n",
    "  start = time.time() \n",
    "  blob = cv2.dnn.blobFromImage(image, 1 / 255.0, (416, 416), swapRB=True, crop=False)\n",
    "  net.setInput(blob)\n",
    "  layerOutputs = net.forward(ln)\n",
    "  end = time.time()\n",
    "  if show_text:\n",
    "    print(\"YOLO took {:.2f} seconds\".format(end - start))\n",
    "  return net, image, layerOutputs"
   ]
  },
  {
   "cell_type": "code",
   "execution_count": 9,
   "metadata": {},
   "outputs": [],
   "source": [
    "def detections(detection, _threshold, boxes, confidences, IDclasses):\n",
    "  scores = detection[5:] \n",
    "  classID = np.argmax(scores)  \n",
    "  confidence = scores[classID]\n",
    "\n",
    "  if confidence > _threshold:\n",
    "      box = detection[0:4] * np.array([W, H, W, H])     \n",
    "      (centerX, centerY, width, height) = box.astype(\"int\")\n",
    "            \n",
    "      x = int(centerX - (width / 2))\n",
    "      y = int(centerY - (height / 2))\n",
    "\n",
    "      boxes.append([x, y, int(width), int(height)])\n",
    "      confidences.append(float(confidence))\n",
    "      IDclasses.append(classID)\n",
    "      \n",
    "  return boxes, confidences, IDclasses"
   ]
  },
  {
   "cell_type": "code",
   "execution_count": 10,
   "metadata": {},
   "outputs": [],
   "source": [
    "def image_functions(image, i, confidence, box, COLORS, LABELS, show_text=True):  \n",
    "  (x, y) = (box[i][0], box[i][1])\n",
    "  (w, h) = (box[i][2],box[i][3])\n",
    "\n",
    "  color = [int(c) for c in COLORS[IDclasses[i]]]\n",
    "  cv2.rectangle(image, (x, y), (x + w, y + h), color, 2) \n",
    "  text = \"{}: {:.4f}\".format(LABELS[IDclasses[i]], confidence[i])\n",
    "  if show_text:\n",
    "    print(\"> \" + text)\n",
    "    print(x,y,w,h)\n",
    "  cv2.putText(image, text, (x, y - 5), cv2.FONT_HERSHEY_SIMPLEX, 0.5, color, 2)\n",
    "\n",
    "  return image,x,y,w,h"
   ]
  },
  {
   "source": [
    "___"
   ],
   "cell_type": "markdown",
   "metadata": {}
  },
  {
   "source": [
    "## Reading video"
   ],
   "cell_type": "markdown",
   "metadata": {}
  },
  {
   "cell_type": "code",
   "execution_count": 11,
   "metadata": {},
   "outputs": [],
   "source": [
    "video = 'video/Forza_Horizon_4.mp4'\n",
    "cap = cv2.VideoCapture(video)\n",
    "connected, video = cap.read()"
   ]
  },
  {
   "cell_type": "code",
   "execution_count": 12,
   "metadata": {},
   "outputs": [
    {
     "output_type": "execute_result",
     "data": {
      "text/plain": [
       "True"
      ]
     },
     "metadata": {},
     "execution_count": 12
    }
   ],
   "source": [
    "connected"
   ]
  },
  {
   "cell_type": "code",
   "execution_count": 13,
   "metadata": {},
   "outputs": [
    {
     "output_type": "execute_result",
     "data": {
      "text/plain": [
       "(720, 1280, 3)"
      ]
     },
     "metadata": {},
     "execution_count": 13
    }
   ],
   "source": [
    "video.shape"
   ]
  },
  {
   "cell_type": "code",
   "execution_count": 14,
   "metadata": {},
   "outputs": [
    {
     "output_type": "execute_result",
     "data": {
      "text/plain": [
       "(1280, 720)"
      ]
     },
     "metadata": {},
     "execution_count": 14
    }
   ],
   "source": [
    "video_width = video.shape[1]\n",
    "video_height = video.shape[0]\n",
    "video_width, video_height"
   ]
  },
  {
   "source": [
    "___"
   ],
   "cell_type": "markdown",
   "metadata": {}
  },
  {
   "source": [
    "## Resizing the video size (optional)"
   ],
   "cell_type": "markdown",
   "metadata": {}
  },
  {
   "cell_type": "code",
   "execution_count": 15,
   "metadata": {},
   "outputs": [],
   "source": [
    "def resizing(width,height,max_width = 600): \n",
    "  if width > max_width:\n",
    "    proportion = width / height\n",
    "    video_width = max_width\n",
    "    video_height = int(video_width / proportion)\n",
    "  else:\n",
    "    video_width = width\n",
    "    video_height = height\n",
    "\n",
    "  return video_width, video_height"
   ]
  },
  {
   "cell_type": "code",
   "execution_count": 16,
   "metadata": {},
   "outputs": [],
   "source": [
    "threshold = 0.8\n",
    "threshold_NMS = 0.5\n",
    "small_font, medium_font = 0.4, 0.6\n",
    "font = cv2.FONT_HERSHEY_SIMPLEX"
   ]
  },
  {
   "cell_type": "code",
   "execution_count": 17,
   "metadata": {},
   "outputs": [],
   "source": [
    "samples_to_show = 20\n",
    "current_sample = 0"
   ]
  },
  {
   "source": [
    "## Output video and codec settings"
   ],
   "cell_type": "markdown",
   "metadata": {}
  },
  {
   "cell_type": "code",
   "execution_count": 18,
   "metadata": {},
   "outputs": [],
   "source": [
    "file_name = 'result.mp4'\n",
    "fourcc = cv2.VideoWriter_fourcc(*'MP4V') # MP4V"
   ]
  },
  {
   "cell_type": "code",
   "execution_count": 19,
   "metadata": {},
   "outputs": [],
   "source": [
    "fps = 24"
   ]
  },
  {
   "cell_type": "code",
   "execution_count": 20,
   "metadata": {},
   "outputs": [],
   "source": [
    "video_output = cv2.VideoWriter(file_name, fourcc, fps, (video_width, video_height))"
   ]
  },
  {
   "source": [
    "## Video processing and result display"
   ],
   "cell_type": "markdown",
   "metadata": {}
  },
  {
   "cell_type": "code",
   "execution_count": 21,
   "metadata": {
    "tags": []
   },
   "outputs": [
    {
     "output_type": "stream",
     "name": "stdout",
     "text": [
      "YOLO took 0.97 seconds\n",
      "YOLO took 0.58 seconds\n",
      "YOLO took 0.46 seconds\n",
      "YOLO took 0.57 seconds\n",
      "YOLO took 0.58 seconds\n",
      "YOLO took 0.47 seconds\n",
      "YOLO took 0.54 seconds\n",
      "YOLO took 0.41 seconds\n",
      "YOLO took 0.52 seconds\n",
      "YOLO took 0.49 seconds\n",
      "YOLO took 0.56 seconds\n",
      "YOLO took 0.46 seconds\n",
      "YOLO took 0.53 seconds\n",
      "YOLO took 0.59 seconds\n",
      "YOLO took 0.48 seconds\n",
      "YOLO took 0.52 seconds\n",
      "YOLO took 0.53 seconds\n",
      "YOLO took 0.59 seconds\n",
      "YOLO took 0.52 seconds\n",
      "YOLO took 0.74 seconds\n",
      "YOLO took 0.65 seconds\n",
      "YOLO took 0.64 seconds\n",
      "YOLO took 0.55 seconds\n",
      "YOLO took 0.52 seconds\n",
      "YOLO took 0.49 seconds\n",
      "YOLO took 0.52 seconds\n",
      "YOLO took 0.56 seconds\n",
      "YOLO took 0.69 seconds\n",
      "YOLO took 0.56 seconds\n",
      "YOLO took 0.65 seconds\n",
      "YOLO took 0.83 seconds\n",
      "YOLO took 0.79 seconds\n",
      "YOLO took 0.70 seconds\n",
      "YOLO took 0.61 seconds\n",
      "YOLO took 0.64 seconds\n",
      "YOLO took 0.60 seconds\n",
      "YOLO took 0.57 seconds\n",
      "YOLO took 0.59 seconds\n",
      "YOLO took 0.54 seconds\n",
      "YOLO took 0.50 seconds\n",
      "YOLO took 0.56 seconds\n",
      "YOLO took 0.51 seconds\n",
      "YOLO took 0.59 seconds\n",
      "YOLO took 0.57 seconds\n",
      "YOLO took 0.50 seconds\n",
      "YOLO took 0.67 seconds\n",
      "YOLO took 0.59 seconds\n",
      "YOLO took 0.53 seconds\n",
      "YOLO took 0.51 seconds\n",
      "YOLO took 0.54 seconds\n",
      "YOLO took 0.53 seconds\n",
      "YOLO took 0.53 seconds\n",
      "YOLO took 0.59 seconds\n",
      "YOLO took 0.52 seconds\n",
      "YOLO took 0.56 seconds\n",
      "YOLO took 0.59 seconds\n",
      "YOLO took 0.60 seconds\n",
      "YOLO took 0.60 seconds\n",
      "YOLO took 0.65 seconds\n",
      "YOLO took 0.54 seconds\n",
      "YOLO took 0.53 seconds\n",
      "YOLO took 0.51 seconds\n",
      "YOLO took 0.53 seconds\n",
      "YOLO took 0.52 seconds\n",
      "YOLO took 0.53 seconds\n",
      "YOLO took 0.55 seconds\n",
      "YOLO took 0.62 seconds\n",
      "YOLO took 0.54 seconds\n",
      "YOLO took 0.54 seconds\n",
      "YOLO took 0.50 seconds\n",
      "YOLO took 0.54 seconds\n",
      "YOLO took 0.56 seconds\n",
      "YOLO took 0.50 seconds\n",
      "YOLO took 0.56 seconds\n",
      "YOLO took 0.63 seconds\n",
      "YOLO took 0.52 seconds\n",
      "YOLO took 0.52 seconds\n",
      "YOLO took 0.55 seconds\n",
      "YOLO took 0.54 seconds\n",
      "YOLO took 0.55 seconds\n",
      "YOLO took 0.52 seconds\n",
      "YOLO took 0.48 seconds\n",
      "YOLO took 0.54 seconds\n",
      "YOLO took 0.56 seconds\n",
      "YOLO took 0.53 seconds\n",
      "YOLO took 0.57 seconds\n",
      "YOLO took 0.46 seconds\n",
      "YOLO took 0.48 seconds\n",
      "YOLO took 0.53 seconds\n",
      "YOLO took 0.53 seconds\n",
      "YOLO took 0.61 seconds\n",
      "YOLO took 0.65 seconds\n",
      "YOLO took 0.56 seconds\n",
      "YOLO took 0.59 seconds\n",
      "YOLO took 0.54 seconds\n",
      "YOLO took 0.48 seconds\n",
      "YOLO took 0.58 seconds\n",
      "YOLO took 0.63 seconds\n",
      "YOLO took 0.56 seconds\n",
      "YOLO took 0.56 seconds\n",
      "YOLO took 0.58 seconds\n",
      "YOLO took 0.55 seconds\n",
      "YOLO took 0.57 seconds\n",
      "YOLO took 0.59 seconds\n",
      "YOLO took 0.70 seconds\n",
      "YOLO took 0.73 seconds\n",
      "YOLO took 0.70 seconds\n",
      "YOLO took 0.40 seconds\n",
      "YOLO took 0.52 seconds\n",
      "YOLO took 0.49 seconds\n",
      "YOLO took 0.45 seconds\n",
      "YOLO took 0.61 seconds\n",
      "YOLO took 0.63 seconds\n",
      "YOLO took 0.55 seconds\n",
      "YOLO took 0.42 seconds\n",
      "YOLO took 0.41 seconds\n",
      "YOLO took 0.44 seconds\n",
      "YOLO took 0.44 seconds\n",
      "YOLO took 0.42 seconds\n",
      "YOLO took 0.77 seconds\n",
      "YOLO took 0.73 seconds\n",
      "YOLO took 1.46 seconds\n",
      "YOLO took 0.58 seconds\n",
      "YOLO took 0.44 seconds\n",
      "YOLO took 0.50 seconds\n",
      "YOLO took 1.39 seconds\n",
      "YOLO took 1.31 seconds\n",
      "YOLO took 0.46 seconds\n",
      "YOLO took 0.37 seconds\n",
      "YOLO took 0.47 seconds\n",
      "YOLO took 0.61 seconds\n",
      "YOLO took 0.74 seconds\n",
      "YOLO took 0.59 seconds\n",
      "YOLO took 0.55 seconds\n",
      "YOLO took 0.53 seconds\n",
      "YOLO took 0.44 seconds\n",
      "YOLO took 0.78 seconds\n",
      "YOLO took 0.68 seconds\n",
      "YOLO took 0.68 seconds\n",
      "YOLO took 0.55 seconds\n",
      "YOLO took 0.88 seconds\n",
      "YOLO took 0.42 seconds\n",
      "YOLO took 0.65 seconds\n",
      "YOLO took 0.53 seconds\n",
      "YOLO took 0.41 seconds\n",
      "YOLO took 0.48 seconds\n",
      "YOLO took 0.44 seconds\n",
      "YOLO took 0.37 seconds\n",
      "YOLO took 0.54 seconds\n",
      "YOLO took 0.49 seconds\n",
      "YOLO took 0.65 seconds\n",
      "YOLO took 0.87 seconds\n",
      "YOLO took 0.96 seconds\n",
      "YOLO took 1.06 seconds\n",
      "YOLO took 1.09 seconds\n",
      "YOLO took 0.89 seconds\n",
      "YOLO took 0.80 seconds\n",
      "YOLO took 0.75 seconds\n",
      "YOLO took 0.68 seconds\n",
      "YOLO took 0.85 seconds\n",
      "YOLO took 1.04 seconds\n",
      "YOLO took 0.73 seconds\n",
      "YOLO took 0.48 seconds\n",
      "YOLO took 0.47 seconds\n",
      "YOLO took 0.63 seconds\n",
      "YOLO took 0.63 seconds\n",
      "YOLO took 0.58 seconds\n",
      "YOLO took 0.65 seconds\n",
      "YOLO took 0.53 seconds\n",
      "YOLO took 0.45 seconds\n",
      "YOLO took 0.46 seconds\n",
      "YOLO took 0.43 seconds\n",
      "YOLO took 0.57 seconds\n",
      "YOLO took 0.60 seconds\n",
      "YOLO took 0.48 seconds\n",
      "YOLO took 0.59 seconds\n",
      "YOLO took 0.51 seconds\n",
      "YOLO took 0.57 seconds\n",
      "YOLO took 0.40 seconds\n",
      "YOLO took 0.43 seconds\n",
      "YOLO took 0.56 seconds\n",
      "YOLO took 0.47 seconds\n",
      "YOLO took 1.00 seconds\n",
      "YOLO took 0.75 seconds\n",
      "YOLO took 0.59 seconds\n",
      "YOLO took 0.66 seconds\n",
      "YOLO took 0.48 seconds\n",
      "YOLO took 0.59 seconds\n",
      "YOLO took 0.62 seconds\n",
      "YOLO took 0.62 seconds\n",
      "YOLO took 0.62 seconds\n",
      "YOLO took 0.49 seconds\n",
      "YOLO took 0.50 seconds\n",
      "YOLO took 0.51 seconds\n",
      "YOLO took 0.49 seconds\n",
      "YOLO took 0.48 seconds\n",
      "YOLO took 0.51 seconds\n",
      "YOLO took 0.53 seconds\n",
      "YOLO took 0.54 seconds\n",
      "YOLO took 0.56 seconds\n",
      "YOLO took 0.54 seconds\n",
      "YOLO took 0.55 seconds\n",
      "YOLO took 0.64 seconds\n",
      "YOLO took 0.61 seconds\n",
      "YOLO took 0.59 seconds\n",
      "YOLO took 0.48 seconds\n",
      "YOLO took 0.69 seconds\n",
      "YOLO took 0.54 seconds\n",
      "YOLO took 0.62 seconds\n",
      "YOLO took 0.55 seconds\n",
      "YOLO took 0.62 seconds\n",
      "YOLO took 0.53 seconds\n",
      "YOLO took 0.47 seconds\n",
      "YOLO took 0.48 seconds\n",
      "YOLO took 0.65 seconds\n",
      "YOLO took 0.46 seconds\n",
      "YOLO took 0.52 seconds\n",
      "YOLO took 0.52 seconds\n",
      "YOLO took 0.66 seconds\n",
      "YOLO took 0.53 seconds\n",
      "YOLO took 0.61 seconds\n",
      "YOLO took 0.56 seconds\n",
      "YOLO took 0.55 seconds\n",
      "YOLO took 0.49 seconds\n",
      "YOLO took 0.56 seconds\n",
      "YOLO took 0.54 seconds\n",
      "YOLO took 0.72 seconds\n",
      "YOLO took 0.61 seconds\n",
      "YOLO took 0.59 seconds\n",
      "YOLO took 0.71 seconds\n",
      "YOLO took 0.67 seconds\n",
      "YOLO took 0.52 seconds\n",
      "YOLO took 0.54 seconds\n",
      "YOLO took 0.50 seconds\n",
      "YOLO took 0.51 seconds\n",
      "YOLO took 0.59 seconds\n",
      "YOLO took 0.50 seconds\n",
      "YOLO took 0.62 seconds\n",
      "YOLO took 0.58 seconds\n",
      "YOLO took 0.49 seconds\n",
      "YOLO took 0.59 seconds\n",
      "YOLO took 0.66 seconds\n",
      "YOLO took 0.64 seconds\n",
      "YOLO took 0.63 seconds\n",
      "YOLO took 0.71 seconds\n",
      "YOLO took 0.75 seconds\n"
     ]
    },
    {
     "output_type": "error",
     "ename": "KeyboardInterrupt",
     "evalue": "",
     "traceback": [
      "\u001b[1;31m---------------------------------------------------------------------------\u001b[0m",
      "\u001b[1;31mKeyboardInterrupt\u001b[0m                         Traceback (most recent call last)",
      "\u001b[1;32m<ipython-input-21-4759891e2d09>\u001b[0m in \u001b[0;36m<module>\u001b[1;34m\u001b[0m\n\u001b[0;32m     13\u001b[0m   \u001b[1;31m# Results of the neural network\u001b[0m\u001b[1;33m\u001b[0m\u001b[1;33m\u001b[0m\u001b[1;33m\u001b[0m\u001b[0m\n\u001b[0;32m     14\u001b[0m   \u001b[0mimage_cp\u001b[0m \u001b[1;33m=\u001b[0m \u001b[0mframe\u001b[0m\u001b[1;33m.\u001b[0m\u001b[0mcopy\u001b[0m\u001b[1;33m(\u001b[0m\u001b[1;33m)\u001b[0m\u001b[1;33m\u001b[0m\u001b[1;33m\u001b[0m\u001b[0m\n\u001b[1;32m---> 15\u001b[1;33m   \u001b[0mnet\u001b[0m\u001b[1;33m,\u001b[0m \u001b[0mframe\u001b[0m\u001b[1;33m,\u001b[0m \u001b[0mlayerOutputs\u001b[0m \u001b[1;33m=\u001b[0m \u001b[0mblob_image\u001b[0m\u001b[1;33m(\u001b[0m\u001b[0mnet\u001b[0m\u001b[1;33m,\u001b[0m \u001b[0mframe\u001b[0m\u001b[1;33m)\u001b[0m\u001b[1;33m\u001b[0m\u001b[1;33m\u001b[0m\u001b[0m\n\u001b[0m\u001b[0;32m     16\u001b[0m   \u001b[0mboxes\u001b[0m \u001b[1;33m=\u001b[0m \u001b[1;33m[\u001b[0m\u001b[1;33m]\u001b[0m\u001b[1;33m\u001b[0m\u001b[1;33m\u001b[0m\u001b[0m\n\u001b[0;32m     17\u001b[0m   \u001b[0mconfidences\u001b[0m \u001b[1;33m=\u001b[0m \u001b[1;33m[\u001b[0m\u001b[1;33m]\u001b[0m\u001b[1;33m\u001b[0m\u001b[1;33m\u001b[0m\u001b[0m\n",
      "\u001b[1;32m<ipython-input-8-ad4853b5f299>\u001b[0m in \u001b[0;36mblob_image\u001b[1;34m(net, image, show_text)\u001b[0m\n\u001b[0;32m      3\u001b[0m   \u001b[0mblob\u001b[0m \u001b[1;33m=\u001b[0m \u001b[0mcv2\u001b[0m\u001b[1;33m.\u001b[0m\u001b[0mdnn\u001b[0m\u001b[1;33m.\u001b[0m\u001b[0mblobFromImage\u001b[0m\u001b[1;33m(\u001b[0m\u001b[0mimage\u001b[0m\u001b[1;33m,\u001b[0m \u001b[1;36m1\u001b[0m \u001b[1;33m/\u001b[0m \u001b[1;36m255.0\u001b[0m\u001b[1;33m,\u001b[0m \u001b[1;33m(\u001b[0m\u001b[1;36m416\u001b[0m\u001b[1;33m,\u001b[0m \u001b[1;36m416\u001b[0m\u001b[1;33m)\u001b[0m\u001b[1;33m,\u001b[0m \u001b[0mswapRB\u001b[0m\u001b[1;33m=\u001b[0m\u001b[1;32mTrue\u001b[0m\u001b[1;33m,\u001b[0m \u001b[0mcrop\u001b[0m\u001b[1;33m=\u001b[0m\u001b[1;32mFalse\u001b[0m\u001b[1;33m)\u001b[0m\u001b[1;33m\u001b[0m\u001b[1;33m\u001b[0m\u001b[0m\n\u001b[0;32m      4\u001b[0m   \u001b[0mnet\u001b[0m\u001b[1;33m.\u001b[0m\u001b[0msetInput\u001b[0m\u001b[1;33m(\u001b[0m\u001b[0mblob\u001b[0m\u001b[1;33m)\u001b[0m\u001b[1;33m\u001b[0m\u001b[1;33m\u001b[0m\u001b[0m\n\u001b[1;32m----> 5\u001b[1;33m   \u001b[0mlayerOutputs\u001b[0m \u001b[1;33m=\u001b[0m \u001b[0mnet\u001b[0m\u001b[1;33m.\u001b[0m\u001b[0mforward\u001b[0m\u001b[1;33m(\u001b[0m\u001b[0mln\u001b[0m\u001b[1;33m)\u001b[0m\u001b[1;33m\u001b[0m\u001b[1;33m\u001b[0m\u001b[0m\n\u001b[0m\u001b[0;32m      6\u001b[0m   \u001b[0mend\u001b[0m \u001b[1;33m=\u001b[0m \u001b[0mtime\u001b[0m\u001b[1;33m.\u001b[0m\u001b[0mtime\u001b[0m\u001b[1;33m(\u001b[0m\u001b[1;33m)\u001b[0m\u001b[1;33m\u001b[0m\u001b[1;33m\u001b[0m\u001b[0m\n\u001b[0;32m      7\u001b[0m   \u001b[1;32mif\u001b[0m \u001b[0mshow_text\u001b[0m\u001b[1;33m:\u001b[0m\u001b[1;33m\u001b[0m\u001b[1;33m\u001b[0m\u001b[0m\n",
      "\u001b[1;31mKeyboardInterrupt\u001b[0m: "
     ]
    }
   ],
   "source": [
    "while (cv2.waitKey(1) < 0):\n",
    "  connected, frame = cap.read() # Reading the frame of the vídeo\n",
    "  if not connected:\n",
    "    break\n",
    "  t = time.time()\n",
    "  frame = cv2.resize(frame, (video_width, video_height))\n",
    "  try:\n",
    "    (H, W) = frame.shape[:2]\n",
    "  except:\n",
    "    print('Error')\n",
    "    continue\n",
    "\n",
    "  # Results of the neural network\n",
    "  image_cp = frame.copy() \n",
    "  net, frame, layerOutputs = blob_image(net, frame)\n",
    "  boxes = []       \n",
    "  confidences = []   \n",
    "  IDclasses = []  \n",
    "  detec = []  \n",
    "\n",
    "  # Detected object information\n",
    "  for output in layerOutputs:\n",
    "    for detection in output:\n",
    "     boxes, confidences, IDclasses = detections(detection, threshold, boxes, confidences, IDclasses)\n",
    "\n",
    "  objs = cv2.dnn.NMSBoxes(boxes, confidences, threshold, threshold_NMS) # Reduce bounding box keeping only the greater probability\n",
    "\n",
    "  # Highlighting objects by creating rectangles and information\n",
    "  if len(objs) > 0:\n",
    "    for i in objs.flatten():\n",
    "      frame, x, y, w, h = image_functions(frame, i, confidences, boxes, COLORS, LABELS, show_text=False)\n",
    "      object_ = image_cp[y:y + h, x:x + w]\n",
    "\n",
    "  \n",
    "  cv2.putText(frame, \" frame processed in {:.2f} seconds\".format(time.time() - t), \n",
    "              (20, video_height-20), font, small_font, (250, 250, 250), 0, lineType=cv2.LINE_AA)\n",
    "\n",
    "\n",
    " \n",
    "  if current_sample <= samples_to_show:\n",
    "    plt.imshow(frame)\n",
    "    current_sample += 1\n",
    "\n",
    "  video_output.write(frame)\n",
    "\n",
    "print(\"It's finished\")\n",
    "video_output.release()\n",
    "cv2.destroyAllWindows()"
   ]
  },
  {
   "cell_type": "code",
   "execution_count": null,
   "metadata": {},
   "outputs": [],
   "source": []
  },
  {
   "cell_type": "code",
   "execution_count": null,
   "metadata": {},
   "outputs": [],
   "source": []
  },
  {
   "cell_type": "code",
   "execution_count": null,
   "metadata": {},
   "outputs": [],
   "source": []
  },
  {
   "cell_type": "code",
   "execution_count": null,
   "metadata": {},
   "outputs": [],
   "source": []
  },
  {
   "cell_type": "code",
   "execution_count": null,
   "metadata": {},
   "outputs": [],
   "source": []
  },
  {
   "cell_type": "code",
   "execution_count": null,
   "metadata": {},
   "outputs": [],
   "source": []
  }
 ]
}